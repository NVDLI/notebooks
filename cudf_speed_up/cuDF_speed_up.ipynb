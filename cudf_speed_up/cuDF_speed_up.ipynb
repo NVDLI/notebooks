{
  "nbformat": 4,
  "nbformat_minor": 5,
  "metadata": {
    "kernelspec": {
      "display_name": "Python 3",
      "language": "python",
      "name": "python3"
    },
    "language_info": {
      "codemirror_mode": {
        "name": "ipython",
        "version": 3
      },
      "file_extension": ".py",
      "mimetype": "text/x-python",
      "name": "python",
      "nbconvert_exporter": "python",
      "pygments_lexer": "ipython3",
      "version": "3.8.8"
    },
    "colab": {
      "name": "cuDF_speed_up.ipynb",
      "provenance": []
    },
    "accelerator": "GPU"
  },
  "cells": [
    {
      "cell_type": "markdown",
      "metadata": {
        "id": "_XMDuUoUl5cQ"
      },
      "source": [
        "<center><a href=\"https://www.nvidia.com/en-us/training/\"><img src=\"https://developer.nvidia.com/sites/default/files/akamai/embedded/images/EDU/DLI%20Asset%20-%20Logo.jpg\" width=\"400\" height=\"186\" /></a></center>"
      ],
      "id": "_XMDuUoUl5cQ"
    },
    {
      "cell_type": "markdown",
      "metadata": {
        "id": "-bPAvj4fwjbq"
      },
      "source": [
        "# Speed Up DataFrame Operations w/ RAPIDS cuDF\n",
        "A **DataFrame** is a 2-dimensional data structure used to represent data in a tabular format, like a spreadsheet or SQL table. Originally offered through the Python Data Analysis (pandas) library, DataFrames have become very popular for its familiar representation as well as a robust set of features that are intuitive and expressive. \n",
        "\n",
        "Raw Data needs to be maniupulated before it can be used for further analysis. These preprocessing steps can include filtering, merging, grouping, and aggregating. \n",
        "\n",
        "Below is a typical data processing pipeline: \n",
        "![pipeline](https://github.com/NVDLI/notebooks/blob/kl/cudf_speed_up/images/flow.png?raw=true)\n",
        "\n",
        "Reportedly, data preparation accounts for ~80% of the work of analysts. This could be the rapidly increase in the size of data as well as the iterative nature of analytics. \n",
        "\n",
        "Before data can be used for Business Intelligence, Dashboard Visualization, or Machine Learning, there is significant time spent on developing a robust data preprocessing pipeline. From initially loading the data, a typical pipeline might include data cleaning, data wrangling, and feature engineering. \n",
        "\n",
        "Recognizing this potential bottleneck, NVIDIA created cuDF that leverages its GPU hardware and software to perform data manipulation tasks with parallel computing. cuDF is a Python GPU DataFrame library (built on the Apache Arrow columnar memory format) for loading, joining, aggregating, filtering, and otherwise manipulating tabular data using a DataFrame style API. "
      ],
      "id": "-bPAvj4fwjbq"
    },
    {
      "cell_type": "markdown",
      "metadata": {
        "id": "lgshsIWK6p18"
      },
      "source": [
        "This notebook is intended to provide analysts with an alternative to the popular pandas library that leverages GPU for parallel computing. "
      ],
      "id": "lgshsIWK6p18"
    },
    {
      "cell_type": "markdown",
      "metadata": {
        "id": "ComTzf6gEWwT"
      },
      "source": [
        "# Environment Sanity Check #\n",
        "\n",
        "Click the _Runtime_ dropdown at the top of the page, then _Change Runtime Type_ and confirm the instance type is _GPU_.\n",
        "\n",
        "Check the output of `!nvidia-smi` to make sure you've been allocated a Tesla T4, P4, or P100."
      ],
      "id": "ComTzf6gEWwT"
    },
    {
      "cell_type": "code",
      "metadata": {
        "colab": {
          "base_uri": "https://localhost:8080/"
        },
        "id": "c58af14d",
        "outputId": "94ffb060-a769-4386-d7ea-439bcb9f1270"
      },
      "source": [
        "!nvidia-smi"
      ],
      "id": "c58af14d",
      "execution_count": null,
      "outputs": [
        {
          "output_type": "stream",
          "text": [
            "Thu Aug 12 23:19:15 2021       \n",
            "+-----------------------------------------------------------------------------+\n",
            "| NVIDIA-SMI 470.42.01    Driver Version: 460.32.03    CUDA Version: 11.2     |\n",
            "|-------------------------------+----------------------+----------------------+\n",
            "| GPU  Name        Persistence-M| Bus-Id        Disp.A | Volatile Uncorr. ECC |\n",
            "| Fan  Temp  Perf  Pwr:Usage/Cap|         Memory-Usage | GPU-Util  Compute M. |\n",
            "|                               |                      |               MIG M. |\n",
            "|===============================+======================+======================|\n",
            "|   0  Tesla T4            Off  | 00000000:00:04.0 Off |                    0 |\n",
            "| N/A   48C    P0    27W /  70W |   6390MiB / 15109MiB |      0%      Default |\n",
            "|                               |                      |                  N/A |\n",
            "+-------------------------------+----------------------+----------------------+\n",
            "                                                                               \n",
            "+-----------------------------------------------------------------------------+\n",
            "| Processes:                                                                  |\n",
            "|  GPU   GI   CI        PID   Type   Process name                  GPU Memory |\n",
            "|        ID   ID                                                   Usage      |\n",
            "|=============================================================================|\n",
            "|  No running processes found                                                 |\n",
            "+-----------------------------------------------------------------------------+\n"
          ],
          "name": "stdout"
        }
      ]
    },
    {
      "cell_type": "markdown",
      "metadata": {
        "id": "A4yzQAnxEdOF"
      },
      "source": [
        "#Setup:\n",
        "Set up script installs\n",
        "1. Updates gcc in Colab\n",
        "1. Installs Conda\n",
        "1. Install RAPIDS' current stable version of its libraries, as well as some external libraries including:\n",
        "  1. cuDF\n",
        "  1. cuML\n",
        "  1. cuGraph\n",
        "  1. cuSpatial\n",
        "  1. cuSignal\n",
        "  1. BlazingSQL\n",
        "  1. xgboost\n",
        "1. Copy RAPIDS .so files into current working directory, a neccessary workaround for RAPIDS+Colab integration.\n"
      ],
      "id": "A4yzQAnxEdOF"
    },
    {
      "cell_type": "code",
      "metadata": {
        "colab": {
          "base_uri": "https://localhost:8080/"
        },
        "id": "3XY491dEEMqF",
        "outputId": "1e2a2db0-b485-4c19-fdf9-f6e92c90b12e"
      },
      "source": [
        "# This get the RAPIDS-Colab install files and test check your GPU.  Run this and the next cell only.\n",
        "# Please read the output of this cell.  If your Colab Instance is not RAPIDS compatible, it will warn you and give you remediation steps.\n",
        "!git clone https://github.com/rapidsai/rapidsai-csp-utils.git\n",
        "!python rapidsai-csp-utils/colab/env-check.py"
      ],
      "id": "3XY491dEEMqF",
      "execution_count": null,
      "outputs": [
        {
          "output_type": "stream",
          "text": [
            "fatal: destination path 'rapidsai-csp-utils' already exists and is not an empty directory.\n",
            "***********************************************************************\n",
            "Woo! Your instance has the right kind of GPU, a Tesla T4!\n",
            "***********************************************************************\n",
            "\n"
          ],
          "name": "stdout"
        }
      ]
    },
    {
      "cell_type": "code",
      "metadata": {
        "colab": {
          "base_uri": "https://localhost:8080/"
        },
        "id": "KalRo0xsEoyb",
        "outputId": "36c8c7a8-3c9f-45fb-944a-a6daf83f99f2"
      },
      "source": [
        "# This will update the Colab environment and restart the kernel.  Don't run the next cell until you see the session crash.\n",
        "!bash rapidsai-csp-utils/colab/update_gcc.sh\n",
        "import os\n",
        "os._exit(00)"
      ],
      "id": "KalRo0xsEoyb",
      "execution_count": null,
      "outputs": [
        {
          "output_type": "stream",
          "text": [
            "Updating your Colab environment.  This will restart your kernel.  Don't Panic!\n",
            "Ign:1 https://developer.download.nvidia.com/compute/cuda/repos/ubuntu1804/x86_64  InRelease\n",
            "Ign:2 https://developer.download.nvidia.com/compute/machine-learning/repos/ubuntu1804/x86_64  InRelease\n",
            "Hit:3 https://cloud.r-project.org/bin/linux/ubuntu bionic-cran40/ InRelease\n",
            "Hit:4 https://developer.download.nvidia.com/compute/cuda/repos/ubuntu1804/x86_64  Release\n",
            "Hit:5 https://developer.download.nvidia.com/compute/machine-learning/repos/ubuntu1804/x86_64  Release\n",
            "Get:6 http://security.ubuntu.com/ubuntu bionic-security InRelease [88.7 kB]\n",
            "Hit:7 http://archive.ubuntu.com/ubuntu bionic InRelease\n",
            "Hit:9 http://ppa.launchpad.net/c2d4u.team/c2d4u4.0+/ubuntu bionic InRelease\n",
            "Get:11 http://archive.ubuntu.com/ubuntu bionic-updates InRelease [88.7 kB]\n",
            "Hit:12 http://ppa.launchpad.net/cran/libgit2/ubuntu bionic InRelease\n",
            "Hit:13 http://ppa.launchpad.net/deadsnakes/ppa/ubuntu bionic InRelease\n",
            "Get:14 http://archive.ubuntu.com/ubuntu bionic-backports InRelease [74.6 kB]\n",
            "Get:15 http://archive.ubuntu.com/ubuntu bionic-updates/universe amd64 Packages [2,196 kB]\n",
            "Hit:16 http://ppa.launchpad.net/graphics-drivers/ppa/ubuntu bionic InRelease\n",
            "Hit:17 http://ppa.launchpad.net/ubuntu-toolchain-r/test/ubuntu bionic InRelease\n",
            "Get:18 http://archive.ubuntu.com/ubuntu bionic-updates/main amd64 Packages [2,699 kB]\n",
            "Fetched 5,147 kB in 2s (2,383 kB/s)\n",
            "Reading package lists... Done\n",
            "Added repo\n",
            "Ign:1 https://developer.download.nvidia.com/compute/cuda/repos/ubuntu1804/x86_64  InRelease\n",
            "Hit:2 https://cloud.r-project.org/bin/linux/ubuntu bionic-cran40/ InRelease\n",
            "Ign:3 https://developer.download.nvidia.com/compute/machine-learning/repos/ubuntu1804/x86_64  InRelease\n",
            "Hit:4 https://developer.download.nvidia.com/compute/cuda/repos/ubuntu1804/x86_64  Release\n",
            "Hit:5 https://developer.download.nvidia.com/compute/machine-learning/repos/ubuntu1804/x86_64  Release\n",
            "Get:6 http://security.ubuntu.com/ubuntu bionic-security InRelease [88.7 kB]\n",
            "Hit:8 http://ppa.launchpad.net/c2d4u.team/c2d4u4.0+/ubuntu bionic InRelease\n",
            "Hit:9 http://archive.ubuntu.com/ubuntu bionic InRelease\n",
            "Hit:11 http://archive.ubuntu.com/ubuntu bionic-updates InRelease\n",
            "Hit:12 http://ppa.launchpad.net/cran/libgit2/ubuntu bionic InRelease\n",
            "Get:13 http://archive.ubuntu.com/ubuntu bionic-backports InRelease [74.6 kB]\n",
            "Hit:14 http://ppa.launchpad.net/deadsnakes/ppa/ubuntu bionic InRelease\n",
            "Hit:15 http://ppa.launchpad.net/graphics-drivers/ppa/ubuntu bionic InRelease\n",
            "Hit:16 http://ppa.launchpad.net/ubuntu-toolchain-r/test/ubuntu bionic InRelease\n",
            "Fetched 163 kB in 1s (115 kB/s)\n",
            "Reading package lists... Done\n",
            "Installing libstdc++\n",
            "Reading package lists... Done\n",
            "Building dependency tree       \n",
            "Reading state information... Done\n",
            "libstdc++6 is already the newest version (11.1.0-1ubuntu1~18.04.1).\n",
            "Selected version '11.1.0-1ubuntu1~18.04.1' (Toolchain test builds:18.04/bionic [amd64]) for 'libstdc++6'\n",
            "0 upgraded, 0 newly installed, 0 to remove and 118 not upgraded.\n",
            "restarting Colab...\n"
          ],
          "name": "stdout"
        }
      ]
    },
    {
      "cell_type": "code",
      "metadata": {
        "id": "9qE98bujEqRW"
      },
      "source": [
        "# This will install CondaColab.  This will restart your kernel one last time.  Run this cell by itself and only run the next cell once you see the session crash.\n",
        "import condacolab\n",
        "condacolab.install()"
      ],
      "id": "9qE98bujEqRW",
      "execution_count": null,
      "outputs": []
    },
    {
      "cell_type": "code",
      "metadata": {
        "id": "CohiENWHFTfo"
      },
      "source": [
        "# you can now run the rest of the cells as normal\n",
        "import condacolab\n",
        "condacolab.check()"
      ],
      "id": "CohiENWHFTfo",
      "execution_count": null,
      "outputs": []
    },
    {
      "cell_type": "code",
      "metadata": {
        "id": "RnjJuPU9FYN5"
      },
      "source": [
        "# Installing RAPIDS is now 'python rapidsai-csp-utils/colab/install_rapids.py <release> <packages>'\n",
        "# The <release> options are 'stable' and 'nightly'.  Leaving it blank or adding any other words will default to stable.\n",
        "# The <packages> option are default blank or 'core'.  By default, we install RAPIDSAI and BlazingSQL.  The 'core' option will install only RAPIDSAI and not include BlazingSQL, \n",
        "!python rapidsai-csp-utils/colab/install_rapids.py stable\n",
        "import os\n",
        "os.environ['NUMBAPRO_NVVM'] = '/usr/local/cuda/nvvm/lib64/libnvvm.so'\n",
        "os.environ['NUMBAPRO_LIBDEVICE'] = '/usr/local/cuda/nvvm/libdevice/'\n",
        "os.environ['CONDA_PREFIX'] = '/usr/local'"
      ],
      "id": "RnjJuPU9FYN5",
      "execution_count": null,
      "outputs": []
    },
    {
      "cell_type": "markdown",
      "metadata": {
        "id": "T2nKfQWD7V1k"
      },
      "source": [
        "Traditionally, these tasks are frequently done using the popular pandas library, which only runs on a single CPU. NVIDIA's cuDF library was built with the users in mind - by offering nearly identical syntax to its CPU counterpart, developers only have to make few changes to their existing code to take advantage of its capabilities. "
      ],
      "id": "T2nKfQWD7V1k"
    },
    {
      "cell_type": "markdown",
      "metadata": {
        "id": "GM2FQ7-P8iaF"
      },
      "source": [
        "### Importing Dependencies"
      ],
      "id": "GM2FQ7-P8iaF"
    },
    {
      "cell_type": "code",
      "metadata": {
        "id": "57e8a8a5",
        "colab": {
          "base_uri": "https://localhost:8080/",
          "height": 367
        },
        "outputId": "798c3882-ff52-4b26-8ab3-46e17c4df5c2"
      },
      "source": [
        "import numpy as np # for generating sample data\n",
        "\n",
        "# import cudf, io, requests\n",
        "from io import StringIO\n",
        "import io, requests, time\n",
        "\n",
        "# import pandas as df\n",
        "import cudf as df\n",
        "import time # for clocking process times\n",
        "import matplotlib.pyplot as plt # for visualizing results"
      ],
      "id": "57e8a8a5",
      "execution_count": null,
      "outputs": [
        {
          "output_type": "error",
          "ename": "ModuleNotFoundError",
          "evalue": "ignored",
          "traceback": [
            "\u001b[0;31m---------------------------------------------------------------------------\u001b[0m",
            "\u001b[0;31mModuleNotFoundError\u001b[0m                       Traceback (most recent call last)",
            "\u001b[0;32m<ipython-input-2-5a072c71e3a5>\u001b[0m in \u001b[0;36m<module>\u001b[0;34m()\u001b[0m\n\u001b[1;32m      6\u001b[0m \u001b[0;34m\u001b[0m\u001b[0m\n\u001b[1;32m      7\u001b[0m \u001b[0;31m# import pandas as df\u001b[0m\u001b[0;34m\u001b[0m\u001b[0;34m\u001b[0m\u001b[0;34m\u001b[0m\u001b[0m\n\u001b[0;32m----> 8\u001b[0;31m \u001b[0;32mimport\u001b[0m \u001b[0mcudf\u001b[0m \u001b[0;32mas\u001b[0m \u001b[0mdf\u001b[0m\u001b[0;34m\u001b[0m\u001b[0;34m\u001b[0m\u001b[0m\n\u001b[0m\u001b[1;32m      9\u001b[0m \u001b[0;32mimport\u001b[0m \u001b[0mtime\u001b[0m \u001b[0;31m# for clocking process times\u001b[0m\u001b[0;34m\u001b[0m\u001b[0;34m\u001b[0m\u001b[0m\n\u001b[1;32m     10\u001b[0m \u001b[0;32mimport\u001b[0m \u001b[0mmatplotlib\u001b[0m\u001b[0;34m.\u001b[0m\u001b[0mpyplot\u001b[0m \u001b[0;32mas\u001b[0m \u001b[0mplt\u001b[0m \u001b[0;31m# for visualizing results\u001b[0m\u001b[0;34m\u001b[0m\u001b[0;34m\u001b[0m\u001b[0m\n",
            "\u001b[0;31mModuleNotFoundError\u001b[0m: No module named 'cudf'",
            "",
            "\u001b[0;31m---------------------------------------------------------------------------\u001b[0;32m\nNOTE: If your import is failing due to a missing package, you can\nmanually install dependencies using either !pip or !apt.\n\nTo view examples of installing some common dependencies, click the\n\"Open Examples\" button below.\n\u001b[0;31m---------------------------------------------------------------------------\u001b[0m\n"
          ]
        }
      ]
    },
    {
      "cell_type": "markdown",
      "metadata": {
        "id": "5T8B9Xog-kye"
      },
      "source": [
        "We start our analysis by loading the data"
      ],
      "id": "5T8B9Xog-kye"
    },
    {
      "cell_type": "code",
      "metadata": {
        "colab": {
          "base_uri": "https://localhost:8080/"
        },
        "id": "108eb7cb",
        "outputId": "6d2861c7-b64f-4d72-a54b-43ccd793839b"
      },
      "source": [
        "def load_data():\n",
        "  start=time.time()\n",
        "  # url=\"https://github.com/plotly/datasets/raw/master/tips.csv\"\n",
        "  # content=requests.get(url).content.decode('utf-8')\n",
        "  # tips_df = cudf.read_csv(StringIO(content))\n",
        "  # dataframe=df.read_csv(StringIO(content))\n",
        "  data=np.random.rand(1000000, 100)\n",
        "  dataframe=df.DataFrame(data)\n",
        "  process_time=time.time()-start\n",
        "  print(f'The loading process took {process_time} seconds')\n",
        "  return dataframe, process_time\n",
        "dataframe, process_time=load_data()"
      ],
      "id": "108eb7cb",
      "execution_count": null,
      "outputs": [
        {
          "output_type": "stream",
          "text": [
            "The loading process took 0.7424914836883545 seconds\n"
          ],
          "name": "stdout"
        }
      ]
    },
    {
      "cell_type": "markdown",
      "metadata": {
        "id": "UhdsvT-gABvZ"
      },
      "source": [
        "Next, we can perform univariate statistics with the ```df.describe()``` method: "
      ],
      "id": "UhdsvT-gABvZ"
    },
    {
      "cell_type": "code",
      "metadata": {
        "colab": {
          "base_uri": "https://localhost:8080/"
        },
        "id": "26a2c5b6",
        "outputId": "a6fe7abe-036c-4ae9-ba2c-f36a58a9db61"
      },
      "source": [
        "def summarize(dataframe):\n",
        "  start=time.time()\n",
        "  dataframe.describe()\n",
        "  process_time=time.time()-start\n",
        "  print(f'The summarizing process took {process_time} seconds')\n",
        "  return process_time\n",
        "summarize(dataframe)"
      ],
      "id": "26a2c5b6",
      "execution_count": null,
      "outputs": [
        {
          "output_type": "stream",
          "text": [
            "The summarizing process took 8.709380865097046 seconds\n"
          ],
          "name": "stdout"
        },
        {
          "output_type": "execute_result",
          "data": {
            "text/plain": [
              "8.709380865097046"
            ]
          },
          "metadata": {
            "tags": []
          },
          "execution_count": 112
        }
      ]
    },
    {
      "cell_type": "markdown",
      "metadata": {
        "id": "w7N64bdRAclS"
      },
      "source": [
        "We will want to perform bi-variate statistics such as correlation between two variables using the df.corr() method: "
      ],
      "id": "w7N64bdRAclS"
    },
    {
      "cell_type": "code",
      "metadata": {
        "colab": {
          "base_uri": "https://localhost:8080/"
        },
        "id": "2538ccdd",
        "outputId": "83b153f3-dd53-4f4c-9444-903168604495"
      },
      "source": [
        "def correlation(dataframe): \n",
        "  start=time.time()\n",
        "  dataframe.corr()\n",
        "  process_time=time.time()-start\n",
        "  print(f'The correlation process took {process_time} seconds')\n",
        "  return process_time\n",
        "correlation(dataframe)"
      ],
      "id": "2538ccdd",
      "execution_count": null,
      "outputs": [
        {
          "output_type": "stream",
          "text": [
            "The correlation process took 19.9680278301239 seconds\n"
          ],
          "name": "stdout"
        },
        {
          "output_type": "execute_result",
          "data": {
            "text/plain": [
              "19.9680278301239"
            ]
          },
          "metadata": {
            "tags": []
          },
          "execution_count": 113
        }
      ]
    },
    {
      "cell_type": "markdown",
      "metadata": {
        "id": "1j1Y3Y_kBYyY"
      },
      "source": [
        "We can simplify our analysis by binning and grouping continuous variables with the pd.cut() and cudf.cut() methods, followed by df.groupby(): "
      ],
      "id": "1j1Y3Y_kBYyY"
    },
    {
      "cell_type": "code",
      "metadata": {
        "id": "b2ha9hLeka4q"
      },
      "source": [
        "# dataframe.head()\n",
        "# len(dataframe)"
      ],
      "id": "b2ha9hLeka4q",
      "execution_count": null,
      "outputs": []
    },
    {
      "cell_type": "code",
      "metadata": {
        "colab": {
          "base_uri": "https://localhost:8080/"
        },
        "id": "d050021a",
        "outputId": "e416d00d-c586-4646-b363-6328fd4329a8"
      },
      "source": [
        "def groupby_summarize(dataframe):\n",
        "  start=time.time()\n",
        "  dataframe['group']=df.cut(dataframe.iloc[:, 0], 10)\n",
        "  dataframe.groupby('group').describe()\n",
        "  process_time=time.time()-start\n",
        "  print(f'The grouping process took {process_time} seconds')\n",
        "  return process_time\n",
        "groupby_summarize(dataframe)"
      ],
      "id": "d050021a",
      "execution_count": null,
      "outputs": [
        {
          "output_type": "stream",
          "text": [
            "The grouping process took 6.057166814804077 seconds\n"
          ],
          "name": "stdout"
        },
        {
          "output_type": "execute_result",
          "data": {
            "text/plain": [
              "6.057166814804077"
            ]
          },
          "metadata": {
            "tags": []
          },
          "execution_count": 115
        }
      ]
    },
    {
      "cell_type": "markdown",
      "metadata": {
        "id": "9xswF-_pgCZ4"
      },
      "source": [
        "Sometimes we need to merge mulitple data sets together with the df.merge() method: "
      ],
      "id": "9xswF-_pgCZ4"
    },
    {
      "cell_type": "code",
      "metadata": {
        "colab": {
          "base_uri": "https://localhost:8080/"
        },
        "id": "jgOC9O_YgNNg",
        "outputId": "3fcc617a-f7fc-4a0a-97cb-5b8796450286"
      },
      "source": [
        "def merge(dataframe): \n",
        "  start=time.time()\n",
        "  dataframe.merge(dataframe, left_index=True, right_index=True)\n",
        "  process_time=time.time()-start\n",
        "  print(f'The merging process took {process_time} seconds')\n",
        "  return process_time\n",
        "merge(dataframe)\n",
        "# dataframe.merge(dataframe, left_index=True, right_index=True)#, left_on=0, right_on=0)#, left_index=True, right_index=True)"
      ],
      "id": "jgOC9O_YgNNg",
      "execution_count": null,
      "outputs": [
        {
          "output_type": "stream",
          "text": [
            "The merging process took 1.7534675598144531 seconds\n"
          ],
          "name": "stdout"
        },
        {
          "output_type": "execute_result",
          "data": {
            "text/plain": [
              "1.7534675598144531"
            ]
          },
          "metadata": {
            "tags": []
          },
          "execution_count": 116
        }
      ]
    },
    {
      "cell_type": "code",
      "metadata": {
        "id": "HMLKNN_RPB0c"
      },
      "source": [
        "def pipeline():\n",
        "  performance={}\n",
        "  dataframe, performance['load data']=load_data()\n",
        "  performance['summarize']=summarize(dataframe)\n",
        "  performance['correlation']=correlation(dataframe)\n",
        "  performance['groupby_summarize']=groupby_summarize(dataframe)\n",
        "  performance['merge']=merge(dataframe)\n",
        "  try: \n",
        "    df.DataFrame([performance], index=['gpu']).to_pandas().plot(kind='bar', stacked=True)\n",
        "  except: \n",
        "    df.DataFrame([performance], index=['cpu']).plot(kind='bar', stacked=True)\n",
        "  return None"
      ],
      "id": "HMLKNN_RPB0c",
      "execution_count": null,
      "outputs": []
    },
    {
      "cell_type": "code",
      "metadata": {
        "colab": {
          "base_uri": "https://localhost:8080/",
          "height": 358
        },
        "id": "zfP0M5lak5Y6",
        "outputId": "eab15abb-a48b-4f54-8195-366a07cbb990"
      },
      "source": [
        "pipeline()"
      ],
      "id": "zfP0M5lak5Y6",
      "execution_count": null,
      "outputs": [
        {
          "output_type": "stream",
          "text": [
            "The loading process took 0.7361698150634766 seconds\n",
            "The summarizing process took 8.694564580917358 seconds\n",
            "The correlation process took 20.019218921661377 seconds\n",
            "The grouping process took 5.726263046264648 seconds\n",
            "The merging process took 1.7538578510284424 seconds\n"
          ],
          "name": "stdout"
        },
        {
          "output_type": "display_data",
          "data": {
            "image/png": "[encoded data removed]",
            "text/plain": [
              "<Figure size 432x288 with 1 Axes>"
            ]
          },
          "metadata": {
            "tags": [],
            "needs_background": "light"
          }
        }
      ]
    },
    {
      "cell_type": "code",
      "metadata": {
        "colab": {
          "base_uri": "https://localhost:8080/",
          "height": 360
        },
        "id": "TfDvbYbIU4b1",
        "outputId": "aad00b11-69fc-4d8d-af3a-b18e40c3d3f5"
      },
      "source": [
        "import cudf as df\n",
        "pipeline()"
      ],
      "id": "TfDvbYbIU4b1",
      "execution_count": null,
      "outputs": [
        {
          "output_type": "stream",
          "text": [
            "The loading process took 1.0965628623962402 seconds\n",
            "The summarizing process took 1.7420973777770996 seconds\n",
            "The correlation process took 0.18835878372192383 seconds\n",
            "The grouping process took 2.6601593494415283 seconds\n",
            "The merging process took 0.10985445976257324 seconds\n"
          ],
          "name": "stdout"
        },
        {
          "output_type": "display_data",
          "data": {
            "image/png": "[encoded data removed]",
            "text/plain": [
              "<Figure size 432x288 with 1 Axes>"
            ]
          },
          "metadata": {
            "tags": [],
            "needs_background": "light"
          }
        }
      ]
    },
    {
      "cell_type": "markdown",
      "metadata": {
        "id": "lYPyye6BYNbr"
      },
      "source": [
        "### Where to go from here\n",
        "Help us prioritize your feature request by contributing to our GitHub repository. "
      ],
      "id": "lYPyye6BYNbr"
    },
    {
      "cell_type": "markdown",
      "metadata": {
        "id": "KoL7MBTzogD3"
      },
      "source": [
        "* sectional headers\n",
        "* end blurb to direct to DLI (might also in the beg.)\n",
        "* expand data set\n",
        "DP\n",
        "* DLI logo (high rez imagefrom KY)\n",
        "* \n",
        "\n"
      ],
      "id": "KoL7MBTzogD3"
    }
  ]
}